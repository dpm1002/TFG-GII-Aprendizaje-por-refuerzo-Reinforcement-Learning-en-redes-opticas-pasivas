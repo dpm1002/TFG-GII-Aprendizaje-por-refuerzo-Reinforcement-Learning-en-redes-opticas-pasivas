{
 "cells": [
  {
   "cell_type": "code",
   "execution_count": 5,
   "id": "94983dad",
   "metadata": {},
   "outputs": [
    {
     "ename": "AttributeError",
     "evalue": "'dict' object has no attribute 'env_specs'",
     "output_type": "error",
     "traceback": [
      "\u001b[1;31m---------------------------------------------------------------------------\u001b[0m",
      "\u001b[1;31mAttributeError\u001b[0m                            Traceback (most recent call last)",
      "Cell \u001b[1;32mIn[5], line 3\u001b[0m\n\u001b[0;32m      1\u001b[0m \u001b[38;5;28;01mimport\u001b[39;00m \u001b[38;5;21;01mos\u001b[39;00m\n\u001b[0;32m      2\u001b[0m \u001b[38;5;28;01mimport\u001b[39;00m \u001b[38;5;21;01mgymnasium\u001b[39;00m \u001b[38;5;28;01mas\u001b[39;00m \u001b[38;5;21;01mgym\u001b[39;00m\n\u001b[1;32m----> 3\u001b[0m \u001b[38;5;28;01mimport\u001b[39;00m \u001b[38;5;21;01mpybullet_envs\u001b[39;00m\n\u001b[0;32m      5\u001b[0m \u001b[38;5;28;01mfrom\u001b[39;00m \u001b[38;5;21;01mstable_baselines3\u001b[39;00m\u001b[38;5;21;01m.\u001b[39;00m\u001b[38;5;21;01mcommon\u001b[39;00m\u001b[38;5;21;01m.\u001b[39;00m\u001b[38;5;21;01mvec_env\u001b[39;00m \u001b[38;5;28;01mimport\u001b[39;00m DummyVecEnv, VecNormalize\n\u001b[0;32m      6\u001b[0m \u001b[38;5;28;01mfrom\u001b[39;00m \u001b[38;5;21;01mstable_baselines3\u001b[39;00m \u001b[38;5;28;01mimport\u001b[39;00m PPO\n",
      "File \u001b[1;32m~\\anaconda3\\Lib\\site-packages\\pybullet_envs\\__init__.py:14\u001b[0m\n\u001b[0;32m      9\u001b[0m     \u001b[38;5;28;01mreturn\u001b[39;00m gym\u001b[38;5;241m.\u001b[39menvs\u001b[38;5;241m.\u001b[39mregistration\u001b[38;5;241m.\u001b[39mregister(\u001b[38;5;28mid\u001b[39m, \u001b[38;5;241m*\u001b[39margs, \u001b[38;5;241m*\u001b[39m\u001b[38;5;241m*\u001b[39mkvargs)\n\u001b[0;32m     12\u001b[0m \u001b[38;5;66;03m# ------------bullet-------------\u001b[39;00m\n\u001b[1;32m---> 14\u001b[0m register(\n\u001b[0;32m     15\u001b[0m     \u001b[38;5;28mid\u001b[39m\u001b[38;5;241m=\u001b[39m\u001b[38;5;124m'\u001b[39m\u001b[38;5;124mHumanoidDeepMimicBackflipBulletEnv-v1\u001b[39m\u001b[38;5;124m'\u001b[39m,\n\u001b[0;32m     16\u001b[0m     entry_point\u001b[38;5;241m=\u001b[39m\u001b[38;5;124m'\u001b[39m\u001b[38;5;124mpybullet_envs.deep_mimic.gym_env:HumanoidDeepMimicBackflipBulletEnv\u001b[39m\u001b[38;5;124m'\u001b[39m,\n\u001b[0;32m     17\u001b[0m     max_episode_steps\u001b[38;5;241m=\u001b[39m\u001b[38;5;241m2000\u001b[39m,\n\u001b[0;32m     18\u001b[0m     reward_threshold\u001b[38;5;241m=\u001b[39m\u001b[38;5;241m2000.0\u001b[39m,\n\u001b[0;32m     19\u001b[0m )\n\u001b[0;32m     21\u001b[0m register(\n\u001b[0;32m     22\u001b[0m     \u001b[38;5;28mid\u001b[39m\u001b[38;5;241m=\u001b[39m\u001b[38;5;124m'\u001b[39m\u001b[38;5;124mHumanoidDeepMimicWalkBulletEnv-v1\u001b[39m\u001b[38;5;124m'\u001b[39m,\n\u001b[0;32m     23\u001b[0m     entry_point\u001b[38;5;241m=\u001b[39m\u001b[38;5;124m'\u001b[39m\u001b[38;5;124mpybullet_envs.deep_mimic.gym_env:HumanoidDeepMimicWalkBulletEnv\u001b[39m\u001b[38;5;124m'\u001b[39m,\n\u001b[0;32m     24\u001b[0m     max_episode_steps\u001b[38;5;241m=\u001b[39m\u001b[38;5;241m2000\u001b[39m,\n\u001b[0;32m     25\u001b[0m     reward_threshold\u001b[38;5;241m=\u001b[39m\u001b[38;5;241m2000.0\u001b[39m,\n\u001b[0;32m     26\u001b[0m )\n\u001b[0;32m     28\u001b[0m register(\n\u001b[0;32m     29\u001b[0m     \u001b[38;5;28mid\u001b[39m\u001b[38;5;241m=\u001b[39m\u001b[38;5;124m'\u001b[39m\u001b[38;5;124mCartPoleBulletEnv-v1\u001b[39m\u001b[38;5;124m'\u001b[39m,\n\u001b[0;32m     30\u001b[0m     entry_point\u001b[38;5;241m=\u001b[39m\u001b[38;5;124m'\u001b[39m\u001b[38;5;124mpybullet_envs.bullet:CartPoleBulletEnv\u001b[39m\u001b[38;5;124m'\u001b[39m,\n\u001b[0;32m     31\u001b[0m     max_episode_steps\u001b[38;5;241m=\u001b[39m\u001b[38;5;241m200\u001b[39m,\n\u001b[0;32m     32\u001b[0m     reward_threshold\u001b[38;5;241m=\u001b[39m\u001b[38;5;241m190.0\u001b[39m,\n\u001b[0;32m     33\u001b[0m )\n",
      "File \u001b[1;32m~\\anaconda3\\Lib\\site-packages\\pybullet_envs\\__init__.py:6\u001b[0m, in \u001b[0;36mregister\u001b[1;34m(id, *args, **kvargs)\u001b[0m\n\u001b[0;32m      5\u001b[0m \u001b[38;5;28;01mdef\u001b[39;00m \u001b[38;5;21mregister\u001b[39m(\u001b[38;5;28mid\u001b[39m, \u001b[38;5;241m*\u001b[39margs, \u001b[38;5;241m*\u001b[39m\u001b[38;5;241m*\u001b[39mkvargs):\n\u001b[1;32m----> 6\u001b[0m   \u001b[38;5;28;01mif\u001b[39;00m \u001b[38;5;28mid\u001b[39m \u001b[38;5;129;01min\u001b[39;00m registry\u001b[38;5;241m.\u001b[39menv_specs:\n\u001b[0;32m      7\u001b[0m     \u001b[38;5;28;01mreturn\u001b[39;00m\n\u001b[0;32m      8\u001b[0m   \u001b[38;5;28;01melse\u001b[39;00m:\n",
      "\u001b[1;31mAttributeError\u001b[0m: 'dict' object has no attribute 'env_specs'"
     ]
    }
   ],
   "source": [
    "import os\n",
    "import gymnasium as gym\n",
    "import pybullet_envs\n",
    "\n",
    "from stable_baselines3.common.vec_env import DummyVecEnv, VecNormalize\n",
    "from stable_baselines3 import PPO\n",
    "\n",
    "# Note: pybullet is not compatible yet with Gymnasium\n",
    "# you might need to use `import rl_zoo3.gym_patches`\n",
    "# and use gym (not Gymnasium) to instantiate the env\n",
    "# Alternatively, you can use the MuJoCo equivalent \"HalfCheetah-v4\"\n",
    "vec_env = DummyVecEnv([lambda: gym.make(\"HalfCheetahBulletEnv-v0\")])\n",
    "# Automatically normalize the input features and reward\n",
    "vec_env = VecNormalize(vec_env, norm_obs=True, norm_reward=True,\n",
    "                   clip_obs=10.)\n",
    "\n",
    "model = PPO(\"MlpPolicy\", vec_env)\n",
    "model.learn(total_timesteps=2000)\n",
    "\n",
    "# Don't forget to save the VecNormalize statistics when saving the agent\n",
    "log_dir = \"/tmp/\"\n",
    "model.save(log_dir + \"ppo_halfcheetah\")\n",
    "stats_path = os.path.join(log_dir, \"vec_normalize.pkl\")\n",
    "env.save(stats_path)\n",
    "\n",
    "# To demonstrate loading\n",
    "del model, vec_env\n",
    "\n",
    "# Load the saved statistics\n",
    "vec_env = DummyVecEnv([lambda: gym.make(\"HalfCheetahBulletEnv-v0\")])\n",
    "vec_env = VecNormalize.load(stats_path, vec_env)\n",
    "#  do not update them at test time\n",
    "vec_env.training = False\n",
    "# reward normalization is not needed at test time\n",
    "vec_env.norm_reward = False\n",
    "\n",
    "# Load the agent\n",
    "model = PPO.load(log_dir + \"ppo_halfcheetah\", env=vec_env)"
   ]
  },
  {
   "cell_type": "code",
   "execution_count": 1,
   "id": "f3845aab",
   "metadata": {},
   "outputs": [
    {
     "name": "stdout",
     "output_type": "stream",
     "text": [
      "Name: gymnasium\n",
      "Version: 0.29.1\n",
      "Summary: A standard API for reinforcement learning and a diverse set of reference environments (formerly Gym).\n",
      "Home-page: \n",
      "Author: \n",
      "Author-email: Farama Foundation <contact@farama.org>\n",
      "License: MIT License\n",
      "Location: C:\\Users\\david\\anaconda3\\Lib\\site-packages\n",
      "Requires: cloudpickle, farama-notifications, numpy, typing-extensions\n",
      "Required-by: Shimmy, stable-baselines3\n",
      "---\n",
      "Name: stable-baselines3\n",
      "Version: 2.2.1\n",
      "Summary: Pytorch version of Stable Baselines, implementations of reinforcement learning algorithms.\n",
      "Home-page: https://github.com/DLR-RM/stable-baselines3\n",
      "Author: Antonin Raffin\n",
      "Author-email: antonin.raffin@dlr.de\n",
      "License: MIT\n",
      "Location: C:\\Users\\david\\anaconda3\\Lib\\site-packages\n",
      "Requires: cloudpickle, gymnasium, matplotlib, numpy, pandas, torch\n",
      "Required-by: \n"
     ]
    },
    {
     "name": "stderr",
     "output_type": "stream",
     "text": [
      "WARNING: Package(s) not found: pybullet_envs\n"
     ]
    }
   ],
   "source": [
    "!pip show gymnasium pybullet_envs stable_baselines3"
   ]
  },
  {
   "cell_type": "code",
   "execution_count": 2,
   "id": "c0f2eace",
   "metadata": {},
   "outputs": [
    {
     "name": "stdout",
     "output_type": "stream",
     "text": [
      "Requirement already satisfied: pybullet in c:\\users\\david\\anaconda3\\lib\\site-packages (3.2.6)\n"
     ]
    }
   ],
   "source": [
    "!pip install pybullet"
   ]
  },
  {
   "cell_type": "code",
   "execution_count": 3,
   "id": "dec0e190",
   "metadata": {},
   "outputs": [
    {
     "ename": "AttributeError",
     "evalue": "'dict' object has no attribute 'env_specs'",
     "output_type": "error",
     "traceback": [
      "\u001b[1;31m---------------------------------------------------------------------------\u001b[0m",
      "\u001b[1;31mAttributeError\u001b[0m                            Traceback (most recent call last)",
      "Cell \u001b[1;32mIn[3], line 1\u001b[0m\n\u001b[1;32m----> 1\u001b[0m \u001b[38;5;28;01mimport\u001b[39;00m \u001b[38;5;21;01mpybullet_envs\u001b[39;00m\n",
      "File \u001b[1;32m~\\anaconda3\\Lib\\site-packages\\pybullet_envs\\__init__.py:14\u001b[0m\n\u001b[0;32m      9\u001b[0m     \u001b[38;5;28;01mreturn\u001b[39;00m gym\u001b[38;5;241m.\u001b[39menvs\u001b[38;5;241m.\u001b[39mregistration\u001b[38;5;241m.\u001b[39mregister(\u001b[38;5;28mid\u001b[39m, \u001b[38;5;241m*\u001b[39margs, \u001b[38;5;241m*\u001b[39m\u001b[38;5;241m*\u001b[39mkvargs)\n\u001b[0;32m     12\u001b[0m \u001b[38;5;66;03m# ------------bullet-------------\u001b[39;00m\n\u001b[1;32m---> 14\u001b[0m register(\n\u001b[0;32m     15\u001b[0m     \u001b[38;5;28mid\u001b[39m\u001b[38;5;241m=\u001b[39m\u001b[38;5;124m'\u001b[39m\u001b[38;5;124mHumanoidDeepMimicBackflipBulletEnv-v1\u001b[39m\u001b[38;5;124m'\u001b[39m,\n\u001b[0;32m     16\u001b[0m     entry_point\u001b[38;5;241m=\u001b[39m\u001b[38;5;124m'\u001b[39m\u001b[38;5;124mpybullet_envs.deep_mimic.gym_env:HumanoidDeepMimicBackflipBulletEnv\u001b[39m\u001b[38;5;124m'\u001b[39m,\n\u001b[0;32m     17\u001b[0m     max_episode_steps\u001b[38;5;241m=\u001b[39m\u001b[38;5;241m2000\u001b[39m,\n\u001b[0;32m     18\u001b[0m     reward_threshold\u001b[38;5;241m=\u001b[39m\u001b[38;5;241m2000.0\u001b[39m,\n\u001b[0;32m     19\u001b[0m )\n\u001b[0;32m     21\u001b[0m register(\n\u001b[0;32m     22\u001b[0m     \u001b[38;5;28mid\u001b[39m\u001b[38;5;241m=\u001b[39m\u001b[38;5;124m'\u001b[39m\u001b[38;5;124mHumanoidDeepMimicWalkBulletEnv-v1\u001b[39m\u001b[38;5;124m'\u001b[39m,\n\u001b[0;32m     23\u001b[0m     entry_point\u001b[38;5;241m=\u001b[39m\u001b[38;5;124m'\u001b[39m\u001b[38;5;124mpybullet_envs.deep_mimic.gym_env:HumanoidDeepMimicWalkBulletEnv\u001b[39m\u001b[38;5;124m'\u001b[39m,\n\u001b[0;32m     24\u001b[0m     max_episode_steps\u001b[38;5;241m=\u001b[39m\u001b[38;5;241m2000\u001b[39m,\n\u001b[0;32m     25\u001b[0m     reward_threshold\u001b[38;5;241m=\u001b[39m\u001b[38;5;241m2000.0\u001b[39m,\n\u001b[0;32m     26\u001b[0m )\n\u001b[0;32m     28\u001b[0m register(\n\u001b[0;32m     29\u001b[0m     \u001b[38;5;28mid\u001b[39m\u001b[38;5;241m=\u001b[39m\u001b[38;5;124m'\u001b[39m\u001b[38;5;124mCartPoleBulletEnv-v1\u001b[39m\u001b[38;5;124m'\u001b[39m,\n\u001b[0;32m     30\u001b[0m     entry_point\u001b[38;5;241m=\u001b[39m\u001b[38;5;124m'\u001b[39m\u001b[38;5;124mpybullet_envs.bullet:CartPoleBulletEnv\u001b[39m\u001b[38;5;124m'\u001b[39m,\n\u001b[0;32m     31\u001b[0m     max_episode_steps\u001b[38;5;241m=\u001b[39m\u001b[38;5;241m200\u001b[39m,\n\u001b[0;32m     32\u001b[0m     reward_threshold\u001b[38;5;241m=\u001b[39m\u001b[38;5;241m190.0\u001b[39m,\n\u001b[0;32m     33\u001b[0m )\n",
      "File \u001b[1;32m~\\anaconda3\\Lib\\site-packages\\pybullet_envs\\__init__.py:6\u001b[0m, in \u001b[0;36mregister\u001b[1;34m(id, *args, **kvargs)\u001b[0m\n\u001b[0;32m      5\u001b[0m \u001b[38;5;28;01mdef\u001b[39;00m \u001b[38;5;21mregister\u001b[39m(\u001b[38;5;28mid\u001b[39m, \u001b[38;5;241m*\u001b[39margs, \u001b[38;5;241m*\u001b[39m\u001b[38;5;241m*\u001b[39mkvargs):\n\u001b[1;32m----> 6\u001b[0m   \u001b[38;5;28;01mif\u001b[39;00m \u001b[38;5;28mid\u001b[39m \u001b[38;5;129;01min\u001b[39;00m registry\u001b[38;5;241m.\u001b[39menv_specs:\n\u001b[0;32m      7\u001b[0m     \u001b[38;5;28;01mreturn\u001b[39;00m\n\u001b[0;32m      8\u001b[0m   \u001b[38;5;28;01melse\u001b[39;00m:\n",
      "\u001b[1;31mAttributeError\u001b[0m: 'dict' object has no attribute 'env_specs'"
     ]
    }
   ],
   "source": [
    "import pybullet_envs"
   ]
  },
  {
   "cell_type": "code",
   "execution_count": null,
   "id": "20be66cc",
   "metadata": {},
   "outputs": [],
   "source": []
  }
 ],
 "metadata": {
  "kernelspec": {
   "display_name": "Python 3 (ipykernel)",
   "language": "python",
   "name": "python3"
  },
  "language_info": {
   "codemirror_mode": {
    "name": "ipython",
    "version": 3
   },
   "file_extension": ".py",
   "mimetype": "text/x-python",
   "name": "python",
   "nbconvert_exporter": "python",
   "pygments_lexer": "ipython3",
   "version": "3.11.5"
  }
 },
 "nbformat": 4,
 "nbformat_minor": 5
}
