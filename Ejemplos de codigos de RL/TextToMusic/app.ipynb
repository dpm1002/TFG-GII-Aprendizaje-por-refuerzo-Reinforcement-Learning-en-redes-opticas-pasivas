{
 "cells": [
  {
   "cell_type": "code",
   "execution_count": 6,
   "metadata": {},
   "outputs": [
    {
     "data": {
      "text/plain": [
       "0"
      ]
     },
     "execution_count": 6,
     "metadata": {},
     "output_type": "execute_result"
    }
   ],
   "source": [
    "from gtts import gTTS\n",
    "import os\n",
    "\n",
    "# El texto que quieres convertir a voz\n",
    "texto = \"Hola, este es un ejemplo de texto convertido a voz usando Python.\"\n",
    "\n",
    "# Configurar el idioma de la voz\n",
    "idioma = 'es'\n",
    "\n",
    "# Crear el objeto gTTS\n",
    "mi_voz = gTTS(text=texto, lang=idioma, slow=True)\n",
    "\n",
    "# Guardar el archivo de audio\n",
    "mi_voz.save(\"audio.mp3\")\n",
    "\n",
    "# Reproducir el archivo de audio (esto dependerá de tu sistema operativo)\n",
    "os.system(\"audio.mp3\")"
   ]
  },
  {
   "cell_type": "code",
   "execution_count": null,
   "metadata": {},
   "outputs": [],
   "source": []
  }
 ],
 "metadata": {
  "kernelspec": {
   "display_name": "Python 3",
   "language": "python",
   "name": "python3"
  },
  "language_info": {
   "codemirror_mode": {
    "name": "ipython",
    "version": 3
   },
   "file_extension": ".py",
   "mimetype": "text/x-python",
   "name": "python",
   "nbconvert_exporter": "python",
   "pygments_lexer": "ipython3",
   "version": "3.11.8"
  }
 },
 "nbformat": 4,
 "nbformat_minor": 2
}
